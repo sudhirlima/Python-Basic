{
  "nbformat": 4,
  "nbformat_minor": 0,
  "metadata": {
    "colab": {
      "provenance": []
    },
    "kernelspec": {
      "name": "python3",
      "display_name": "Python 3"
    },
    "language_info": {
      "name": "python"
    }
  },
  "cells": [
    {
      "cell_type": "markdown",
      "source": [
        "1. What is Python, and why is it popular?"
      ],
      "metadata": {
        "id": "kyzol6r6HhEC"
      }
    },
    {
      "cell_type": "markdown",
      "source": [
        "Python is a high-level, interpreted programming language and due to its easy syntax and versatility its popular."
      ],
      "metadata": {
        "id": "ZzdD8WsGHfwt"
      }
    },
    {
      "cell_type": "markdown",
      "source": [
        "2.\tWhat is an interpreter in Python?"
      ],
      "metadata": {
        "id": "zn1BDNp2H2uc"
      }
    },
    {
      "cell_type": "markdown",
      "source": [
        "An interpreter reads and executes Python code line-by-line"
      ],
      "metadata": {
        "id": "w5t5AnIhHU2R"
      }
    },
    {
      "cell_type": "markdown",
      "source": [
        "3.\tWhat are pre-defined keywords in Python?"
      ],
      "metadata": {
        "id": "hSwgqet3Humz"
      }
    },
    {
      "cell_type": "markdown",
      "source": [
        "Pre-defined keywords are reserved words in Python with special meaning"
      ],
      "metadata": {
        "id": "bZZuMsMGH7EQ"
      }
    },
    {
      "cell_type": "markdown",
      "source": [
        "4.\tCan keywords be used as variable names?"
      ],
      "metadata": {
        "id": "mJizzubjH_5f"
      }
    },
    {
      "cell_type": "markdown",
      "source": [
        "No."
      ],
      "metadata": {
        "id": "C1e91vNCICsQ"
      }
    },
    {
      "cell_type": "markdown",
      "source": [
        "5.\tWhat is mutability in Python?"
      ],
      "metadata": {
        "id": "UoaE691nIF9z"
      }
    },
    {
      "cell_type": "markdown",
      "source": [
        "the objects that is modified after creation is known as mutability in Python."
      ],
      "metadata": {
        "id": "UTKe-9DFIJdO"
      }
    },
    {
      "cell_type": "markdown",
      "source": [
        "6.\tWhy are lists mutable, but tuples are immutable?"
      ],
      "metadata": {
        "id": "uDIjsgJxIlwg"
      }
    },
    {
      "cell_type": "markdown",
      "source": [
        "Lists are designed for dynamic data and allow modifications, while tuples are designed for fixed data structures, hence are immutable for safety and performance."
      ],
      "metadata": {
        "id": "dijf95_eInI5"
      }
    },
    {
      "cell_type": "markdown",
      "source": [
        "7.\tWhat is the difference between “==” and “is” operators in Python?"
      ],
      "metadata": {
        "id": "LXEW46BKIs5O"
      }
    },
    {
      "cell_type": "markdown",
      "source": [
        "\"==\" compares values\n",
        "\"is\" compares variables\n"
      ],
      "metadata": {
        "id": "b_WwTYBpI0is"
      }
    },
    {
      "cell_type": "markdown",
      "source": [
        "8.\tWhat are logical operators in Python?"
      ],
      "metadata": {
        "id": "o7aFgH5MJRB4"
      }
    },
    {
      "cell_type": "markdown",
      "source": [
        "if else ; True & False; and / or; while"
      ],
      "metadata": {
        "id": "Geoec-21JXuE"
      }
    },
    {
      "cell_type": "markdown",
      "source": [
        "9.\tWhat is type casting in Python?"
      ],
      "metadata": {
        "id": "aS8OkffNJt-Z"
      }
    },
    {
      "cell_type": "markdown",
      "source": [
        "The process of changing the data type of a value of object."
      ],
      "metadata": {
        "id": "4qe6DIMOJxrl"
      }
    },
    {
      "cell_type": "markdown",
      "source": [
        "10.\tWhat is the difference between implicit and explicit type casting?"
      ],
      "metadata": {
        "id": "YS61xqrZJzpZ"
      }
    },
    {
      "cell_type": "markdown",
      "source": [
        "•\tImplicit: Python understands data type automatically  \n",
        "•\tExplicit: convert data type using inbuilt functions str, int, float and bool"
      ],
      "metadata": {
        "id": "ZFDLE3BTOfdx"
      }
    },
    {
      "cell_type": "markdown",
      "source": [
        "11.\tWhat is the purpose of conditional statements in Python?\n",
        "to control the flow of program execution."
      ],
      "metadata": {
        "id": "7W6Z10J6Q7hU"
      }
    },
    {
      "cell_type": "markdown",
      "source": [
        "12.\tHow does the elif statement work?\n",
        "elif statement checks multiple conditions and execute accordingly"
      ],
      "metadata": {
        "id": "nH7ZMZKJZBAr"
      }
    },
    {
      "cell_type": "markdown",
      "source": [
        "13.\tWhat is the difference between for and while loops?\n",
        "for: used with sequences (e.g., list, range)\n",
        "while: executed based on a condition\n"
      ],
      "metadata": {
        "id": "eMENNM-r51Y_"
      }
    },
    {
      "cell_type": "markdown",
      "source": [
        "14.\tdescribe a scenario for while loop is more suitable than for loop.\n",
        "when the loop runtime is unknown than \"while loop\" is suitable to use."
      ],
      "metadata": {
        "id": "QNKeRF247pKK"
      }
    },
    {
      "cell_type": "markdown",
      "source": [
        "1.\tPrint \"Hello, World!\""
      ],
      "metadata": {
        "id": "_6xHMUSD9auM"
      }
    },
    {
      "cell_type": "code",
      "source": [
        "print (\"Hello, World\")"
      ],
      "metadata": {
        "colab": {
          "base_uri": "https://localhost:8080/"
        },
        "id": "PjMlWhJ29b_q",
        "outputId": "bb09b49d-4539-4080-9da8-08ee8bd0e7f6"
      },
      "execution_count": 6,
      "outputs": [
        {
          "output_type": "stream",
          "name": "stdout",
          "text": [
            "Hello, World\n"
          ]
        }
      ]
    },
    {
      "cell_type": "markdown",
      "source": [
        "2. Program to print Name & age"
      ],
      "metadata": {
        "id": "hCOa8erW9nPk"
      }
    },
    {
      "cell_type": "code",
      "source": [
        "name = \"Sudhir Lima\"\n",
        "age = 49\n",
        "print (\"My Name is : \", name , \"and I am :\", age, \"years old.\")\n",
        "# and I am age years old.\")"
      ],
      "metadata": {
        "colab": {
          "base_uri": "https://localhost:8080/"
        },
        "id": "s1_0OCAA9rzK",
        "outputId": "de5eb74e-34f4-45af-ac18-425263b4a849"
      },
      "execution_count": 24,
      "outputs": [
        {
          "output_type": "stream",
          "name": "stdout",
          "text": [
            "My Name is :  Sudhir Lima and I am : 49 years old.\n"
          ]
        }
      ]
    },
    {
      "cell_type": "markdown",
      "source": [
        "3. write code to print all pre-defined keywords using library."
      ],
      "metadata": {
        "id": "KNIlhakZAPsh"
      }
    },
    {
      "cell_type": "code",
      "source": [
        "import keyword\n",
        "print (keyword.kwlist)"
      ],
      "metadata": {
        "colab": {
          "base_uri": "https://localhost:8080/"
        },
        "id": "kWNrELTUAZPA",
        "outputId": "8241e3a4-83a2-4f53-d059-08380bcfb80c"
      },
      "execution_count": 25,
      "outputs": [
        {
          "output_type": "stream",
          "name": "stdout",
          "text": [
            "['False', 'None', 'True', 'and', 'as', 'assert', 'async', 'await', 'break', 'class', 'continue', 'def', 'del', 'elif', 'else', 'except', 'finally', 'for', 'from', 'global', 'if', 'import', 'in', 'is', 'lambda', 'nonlocal', 'not', 'or', 'pass', 'raise', 'return', 'try', 'while', 'with', 'yield']\n"
          ]
        }
      ]
    },
    {
      "cell_type": "markdown",
      "source": [
        "4. Write a program that checks if a given word is a python keyword."
      ],
      "metadata": {
        "id": "nlQB2BrWAnhn"
      }
    },
    {
      "cell_type": "code",
      "source": [
        "import keyword\n",
        "word = input(\"Enter a word :  \")\n",
        "print(keyword.iskeyword(word))\n"
      ],
      "metadata": {
        "colab": {
          "base_uri": "https://localhost:8080/"
        },
        "id": "uM5Yw4piAx5T",
        "outputId": "de6af79e-b097-4e17-ae66-ab42d5606f29"
      },
      "execution_count": 27,
      "outputs": [
        {
          "output_type": "stream",
          "name": "stdout",
          "text": [
            "Enter a word :  list\n",
            "False\n"
          ]
        }
      ]
    },
    {
      "cell_type": "markdown",
      "source": [
        "5. Creat a list and tuple in python, and demonstrate how attempting to change an element works differently for each."
      ],
      "metadata": {
        "id": "Ovx8EbMCBw1K"
      }
    },
    {
      "cell_type": "code",
      "source": [
        "# Creating a list and a tuple\n",
        "my_list = [10, 20, 30]\n",
        "my_tuple = (10, 20, 30)\n",
        "\n",
        "# Changing an element in the list (works fine)\n",
        "my_list[2] = 99\n",
        "print(\"Modified list:\", my_list)\n",
        "\n",
        "# Attempting to change an element in the tuple (will raise error as tuple doesnt support change)\n",
        "# my_tuple[1] = 99\n",
        "# Tuple does not support modification\n"
      ],
      "metadata": {
        "colab": {
          "base_uri": "https://localhost:8080/"
        },
        "id": "nJD8jol7Cgqe",
        "outputId": "a9faa9a3-dd45-472e-e9e9-51c4aba71d4e"
      },
      "execution_count": 33,
      "outputs": [
        {
          "output_type": "stream",
          "name": "stdout",
          "text": [
            "Modified list: [10, 20, 99]\n"
          ]
        }
      ]
    },
    {
      "cell_type": "markdown",
      "source": [
        "6. write a function to demonstrate the behavior of mutable and immutable arguments"
      ],
      "metadata": {
        "id": "k4WoyYddML5n"
      }
    },
    {
      "cell_type": "code",
      "source": [
        "def modify_arguments(a_number, a_list):\n",
        "    print(\"Inside function BEFORE change:\")\n",
        "    print(\"a_number:\", a_number)\n",
        "    print(\"a_list:\", a_list)\n",
        "\n",
        "    a_number += 10       # Tries to modify the number (immutable)\n",
        "    a_list.append(99)    # Modifies the list (mutable)\n",
        "\n",
        "    print(\"Inside function AFTER change:\")\n",
        "    print(\"a_number:\", a_number)\n",
        "    print(\"a_list:\", a_list)\n",
        "\n",
        "# Immutable argument (int)\n",
        "num = 5\n",
        "\n",
        "# Mutable argument (list)\n",
        "lst = [1, 2, 3]\n",
        "\n",
        "modify_arguments(num, lst)\n",
        "\n",
        "print(\"\\nOutside function AFTER call:\")\n",
        "print(\"num:\", num)       # Will NOT change\n",
        "print(\"lst:\", lst)       # Will change\n"
      ],
      "metadata": {
        "colab": {
          "base_uri": "https://localhost:8080/"
        },
        "id": "8bD1EzWJQtNH",
        "outputId": "0f13c933-18c0-4fab-e661-8dd971d728b7"
      },
      "execution_count": 34,
      "outputs": [
        {
          "output_type": "stream",
          "name": "stdout",
          "text": [
            "Inside function BEFORE change:\n",
            "a_number: 5\n",
            "a_list: [1, 2, 3]\n",
            "Inside function AFTER change:\n",
            "a_number: 15\n",
            "a_list: [1, 2, 3, 99]\n",
            "\n",
            "Outside function AFTER call:\n",
            "num: 5\n",
            "lst: [1, 2, 3, 99]\n"
          ]
        }
      ]
    },
    {
      "cell_type": "markdown",
      "source": [
        "7. Write a program that performs basic arithmatic operations on two user-input numbers"
      ],
      "metadata": {
        "id": "GAt_zAa7YOir"
      }
    },
    {
      "cell_type": "code",
      "source": [
        "# Basic Arithmetic Operations Program\n",
        "\n",
        "# user input\n",
        "num1 = float(input(\"Enter the first number: \"))\n",
        "num2 = float(input(\"Enter the second number: \"))\n",
        "print(\"The substraction result is  :\", num1 - num2 )\n",
        "print(\"The addition result is  :\", num1 + num2 )\n",
        "print(\"The multiplication result is  :\", num1 * num2 )\n",
        "print(\"The division result is  :\", num1 / num2 )\n"
      ],
      "metadata": {
        "colab": {
          "base_uri": "https://localhost:8080/"
        },
        "id": "uPSXEmXCYbzM",
        "outputId": "0ca1fd5d-e7b8-4cd8-88e5-0d7eed257505"
      },
      "execution_count": 3,
      "outputs": [
        {
          "output_type": "stream",
          "name": "stdout",
          "text": [
            "Enter the first number: 33.25\n",
            "Enter the second number: 21.85\n",
            "The substraction result is  : 11.399999999999999\n",
            "The addition result is  : 55.1\n",
            "The multiplication result is  : 726.5125\n",
            "The division result is  : 1.5217391304347825\n"
          ]
        }
      ]
    },
    {
      "cell_type": "markdown",
      "source": [
        "8. Write a program to demonstrate the use of logical operators"
      ],
      "metadata": {
        "id": "vNXBr7fIaEqy"
      }
    },
    {
      "cell_type": "code",
      "source": [
        "# Logical Operators Demo\n",
        "\n",
        "# Take user input for age and nationality\n",
        "age = int(input(\"Enter your age: \"))\n",
        "is_indian = input(\"Are you an Indian citizen? (yes/no): \").lower()\n",
        "\n",
        "# Convert input to boolean\n",
        "is_citizen = is_indian == \"yes\"\n",
        "\n",
        "# Check voting eligibility using logical operators\n",
        "\n",
        "# Using AND operator\n",
        "if age >= 18 and is_citizen:\n",
        "    print(\" You are eligible to vote in India.\")\n",
        "else:\n",
        "    print(\" You are NOT eligible to vote in India.\")\n",
        "\n",
        "# Using OR operator\n",
        "if age < 18 or not is_citizen:\n",
        "    print(\" You either are underage OR not a citizen.\")\n",
        "\n",
        "# Using NOT operator\n",
        "if not (age >= 18 and is_citizen):\n",
        "    print(\"🔒 Access denied: Voting eligibility requirements not met.\")\n"
      ],
      "metadata": {
        "colab": {
          "base_uri": "https://localhost:8080/"
        },
        "id": "Yo_VcqSdaVfo",
        "outputId": "48d82559-9836-4c44-f85c-b0cb559f56b1"
      },
      "execution_count": 6,
      "outputs": [
        {
          "output_type": "stream",
          "name": "stdout",
          "text": [
            "Enter your age: 38\n",
            "Are you an Indian citizen? (yes/no): no\n",
            " You are NOT eligible to vote in India.\n",
            " You either are underage OR not a citizen.\n",
            "🔒 Access denied: Voting eligibility requirements not met.\n"
          ]
        }
      ]
    },
    {
      "cell_type": "markdown",
      "source": [
        "9. write a program to convert user input from string to integer, float and boolean types"
      ],
      "metadata": {
        "id": "tCoKBnf_b9yb"
      }
    },
    {
      "cell_type": "code",
      "source": [
        "user_input = input(\" Please Enter only whole number : \")\n",
        "print(\"Integer conversion: \", int(user_input))\n",
        "print(\"Float Conversion:  \", float(user_input))\n",
        "print(\"Boolean Conversion:  \", bool(user_input))\n",
        "\n"
      ],
      "metadata": {
        "colab": {
          "base_uri": "https://localhost:8080/"
        },
        "id": "6wksD2pGeFbE",
        "outputId": "9333d6fa-f885-4301-a91c-6a6d29861aa8"
      },
      "execution_count": 15,
      "outputs": [
        {
          "output_type": "stream",
          "name": "stdout",
          "text": [
            " Please Enter only whole number : 33\n",
            "Integer conversion:  33\n",
            "Float Conversion:   33.0\n",
            "Boolean Conversion:   True\n"
          ]
        }
      ]
    },
    {
      "cell_type": "markdown",
      "source": [
        "10. write code to demonstrate type casting with list elements"
      ],
      "metadata": {
        "id": "D9uB0qNwe_ZI"
      }
    },
    {
      "cell_type": "code",
      "source": [],
      "metadata": {
        "id": "03VEesuufIeE"
      },
      "execution_count": null,
      "outputs": []
    },
    {
      "cell_type": "code",
      "source": [
        "str_list = ['1', '2', '3']\n",
        "int_list = [int(x) for x in str_list]\n",
        "print(int_list)  # [1, 2, 3]\n",
        "\n"
      ],
      "metadata": {
        "colab": {
          "base_uri": "https://localhost:8080/"
        },
        "id": "QshZLQFgffdN",
        "outputId": "ffb038cb-ebdd-412f-e816-105972463502"
      },
      "execution_count": 16,
      "outputs": [
        {
          "output_type": "stream",
          "name": "stdout",
          "text": [
            "[1, 2, 3]\n"
          ]
        }
      ]
    },
    {
      "cell_type": "markdown",
      "source": [
        "11. Write a number to check if a number is + , - or zero ."
      ],
      "metadata": {
        "id": "HKZZUZPYmY6A"
      }
    },
    {
      "cell_type": "code",
      "source": [
        "num = int(input(\"Enter a number: \"))\n",
        "if num > 0:\n",
        "    print(\"You have entered a Positive number\")\n",
        "elif num < 0:\n",
        "    print(\"You have entered a Negative number\")\n",
        "else:\n",
        "    print(\"That's a Zero\")\n"
      ],
      "metadata": {
        "colab": {
          "base_uri": "https://localhost:8080/"
        },
        "id": "OXbzr90xmhwr",
        "outputId": "e61de094-b720-47d1-bdd5-690bf4e67d69"
      },
      "execution_count": 20,
      "outputs": [
        {
          "output_type": "stream",
          "name": "stdout",
          "text": [
            "Enter a number: 2\n",
            "You have entered a Positive number\n"
          ]
        }
      ]
    },
    {
      "cell_type": "markdown",
      "source": [
        "12. Write a for loop to print numbers 1 to 10"
      ],
      "metadata": {
        "id": "G61Ssy4knXdh"
      }
    },
    {
      "cell_type": "code",
      "source": [
        "for i in range(1, 11):\n",
        "    print(i)\n"
      ],
      "metadata": {
        "colab": {
          "base_uri": "https://localhost:8080/"
        },
        "id": "ubwlu8Fynh6c",
        "outputId": "7a55bf1f-eab2-4f80-833b-301c5c0f9ff5"
      },
      "execution_count": 21,
      "outputs": [
        {
          "output_type": "stream",
          "name": "stdout",
          "text": [
            "1\n",
            "2\n",
            "3\n",
            "4\n",
            "5\n",
            "6\n",
            "7\n",
            "8\n",
            "9\n",
            "10\n"
          ]
        }
      ]
    },
    {
      "cell_type": "markdown",
      "source": [
        "13. Write a program to find sum of all numbers from 1 to 50."
      ],
      "metadata": {
        "id": "C-OCw-E2nl3-"
      }
    },
    {
      "cell_type": "code",
      "source": [
        "total = 0\n",
        "for i in range(1, 51):\n",
        "    if i % 2 == 0:\n",
        "        total += i\n",
        "print(\"Sum of 1 to 50 is :\", total)\n"
      ],
      "metadata": {
        "colab": {
          "base_uri": "https://localhost:8080/"
        },
        "id": "nXYEVaLMnywC",
        "outputId": "c73da35f-8eb1-4c9a-cacf-497fe39d62d4"
      },
      "execution_count": 23,
      "outputs": [
        {
          "output_type": "stream",
          "name": "stdout",
          "text": [
            "Sum of 1 to 50 is : 650\n"
          ]
        }
      ]
    },
    {
      "cell_type": "markdown",
      "source": [
        "14. Write a program to reverse a string using while loop"
      ],
      "metadata": {
        "id": "CSbSrI9QoDOO"
      }
    },
    {
      "cell_type": "code",
      "source": [
        "text = input(\"Enter number to reverse: \")\n",
        "reversed_str = ''\n",
        "i = len(text) - 1\n",
        "while i >= 0:\n",
        "    reversed_str += text[i]\n",
        "    i -= 1\n",
        "print(\"Your given reverse number is : \", reversed_str)\n"
      ],
      "metadata": {
        "colab": {
          "base_uri": "https://localhost:8080/"
        },
        "id": "JHn0Zdu0oLEP",
        "outputId": "cc420ce0-8fca-4aa4-8c97-aabbe63cdb9b"
      },
      "execution_count": 27,
      "outputs": [
        {
          "output_type": "stream",
          "name": "stdout",
          "text": [
            "Enter number to reverse: 34\n",
            "Your given reverse number is :  43\n"
          ]
        }
      ]
    },
    {
      "cell_type": "markdown",
      "source": [
        "15. Write a program to calculate factorial of a number provided by user usring while loop."
      ],
      "metadata": {
        "id": "k-2OuTC7orHO"
      }
    },
    {
      "cell_type": "code",
      "source": [
        "num = int(input(\"Enter number: \"))\n",
        "fact = 1\n",
        "i = 1\n",
        "while i <= num:\n",
        "    fact *= i\n",
        "    i += 1\n",
        "print(\"Factorial:\", fact)\n"
      ],
      "metadata": {
        "colab": {
          "base_uri": "https://localhost:8080/"
        },
        "id": "eldvX2XrpAVg",
        "outputId": "1d763092-36c3-4d9a-e248-3a37b5c0ac9a"
      },
      "execution_count": 31,
      "outputs": [
        {
          "output_type": "stream",
          "name": "stdout",
          "text": [
            "Enter number: 12\n",
            "Factorial: 479001600\n"
          ]
        }
      ]
    }
  ]
}