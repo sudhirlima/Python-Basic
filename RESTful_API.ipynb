{
  "nbformat": 4,
  "nbformat_minor": 0,
  "metadata": {
    "colab": {
      "provenance": []
    },
    "kernelspec": {
      "name": "python3",
      "display_name": "Python 3"
    },
    "language_info": {
      "name": "python"
    }
  },
  "cells": [
    {
      "cell_type": "markdown",
      "source": [
        "# RESTful API"
      ],
      "metadata": {
        "id": "8UgJtEx9vIwg"
      }
    },
    {
      "cell_type": "markdown",
      "source": [
        "1. What is a RESTful API ?\n",
        "\n",
        "This is a set of design principles for building APIs, emphasizing statelessness, a uniform interface, and efficient data exchange."
      ],
      "metadata": {
        "id": "I_fZce_tvMnV"
      }
    },
    {
      "cell_type": "markdown",
      "source": [
        "2. Explain the concept of API specification.\n",
        "\n",
        "It outlines the API's functions, the data it exchanges, and the rules governing its interactions in a formal and often machine-readable format, such as YAML or JSON."
      ],
      "metadata": {
        "id": "jyV5Ys5lvYzI"
      }
    },
    {
      "cell_type": "markdown",
      "source": [
        "3. What is Flask, and why is it popular for building APIs?\n",
        "\n",
        "Flask is a lightweight, open-source web framework written in Python. It’s especially popular for building APIs (Application Programming Interfaces) due to its simplicity, flexibility, and ease of use.\n"
      ],
      "metadata": {
        "id": "tWyGXiUav5Ds"
      }
    },
    {
      "cell_type": "markdown",
      "source": [
        "4. What is routing in Flask ?\n",
        "\n",
        "Routing in Flask refers to mapping URLs (web addresses) to specific functions in your Python code.\n",
        "Each route defines what should happen when a particular URL is visited — like showing a webpage or returning data via an API."
      ],
      "metadata": {
        "id": "vF2OOe1H2Fmz"
      }
    },
    {
      "cell_type": "markdown",
      "source": [
        "5. How do you create a simple Flask application?\n",
        "\n",
        "from flask import Flask\n",
        "\n",
        "app = Flask(__name__)  # Create Flask app instance\n",
        "\n",
        "@app.route('/')  # Define the home route\n",
        "def home():\n",
        "    return \"Hello, Flask! 🎉\"\n",
        "\n",
        "if __name__ == '__main__':\n",
        "    app.run(debug=True)  # Run the app in debug mode\n"
      ],
      "metadata": {
        "id": "Wf6VOwGv2Zyk"
      }
    },
    {
      "cell_type": "markdown",
      "source": [
        "6. What are HTTP methods used in RESTful APIs?\n",
        "\n",
        "HTTP methods (also called verbs) define the type of operation a client wants to perform on a resource (like a database entry, file, or object) via an API."
      ],
      "metadata": {
        "id": "5tECVsDK6g80"
      }
    },
    {
      "cell_type": "markdown",
      "source": [
        "7. What is the purport of the @app.route() decorator in Flask?\n",
        "\n",
        "It maps a URL path to a Python function, so that when a user accesses a specific path, Flask knows what response to return."
      ],
      "metadata": {
        "id": "1575TWwA6uv8"
      }
    },
    {
      "cell_type": "markdown",
      "source": [
        "8.  What is the difference between GET and POST HTTP methods ?\n",
        "\n",
        "GET Method:\n",
        "Purpose: Used to retrieve data from a server.\n",
        "\n",
        "Data Transmission: Sends data as part of the URL (in the query string).\n",
        "\n",
        "Visibility: Data is visible in the URL.\n",
        "\n",
        "Use Case: Safe and idempotent operations like search, read, or fetch.\n",
        "\n",
        "Caching: Can be cached by browsers.\n",
        "\n",
        "Limitations: Limited amount of data due to URL length constraints.\n",
        "\n",
        "POST Method\n",
        "Purpose: Used to send data to a server to create/update a resource.\n",
        "\n",
        "Data Transmission: Sends data in the request body.\n",
        "\n",
        "Visibility: Data is not visible in the URL.\n",
        "\n",
        "Use Case: Operations that change server state, like form submission, payments, etc.\n",
        "\n",
        "Caching: Not cached by default.\n",
        "\n",
        "Limitations: No real data size limit (can send much larger payloads than GET)."
      ],
      "metadata": {
        "id": "HutuZxqS7DJX"
      }
    },
    {
      "cell_type": "code",
      "execution_count": null,
      "metadata": {
        "id": "IHlVm17wvFQf"
      },
      "outputs": [],
      "source": [
        "9. How do you handle errors in Flask APIs?\n",
        "\n",
        "Using @app.errorhandler() Decorator\n",
        "\n",
        "Using Try-Except Blocks in Routes\n",
        "\n",
        "Create custom exceptions to handle specific error types more cleanly.\n",
        "\n",
        "Using Flask-RESTful or Flask-API Extensions\n"
      ]
    },
    {
      "cell_type": "markdown",
      "source": [
        "10. How do you connect Flask to a SQL database ?\n",
        "\n",
        "Install Required Libraries\n",
        "\n",
        "Set Up Your Flask App and SQLAlchemy\n",
        "\n",
        "Define Your Models and then Create the Database"
      ],
      "metadata": {
        "id": "3PNcdPjFKVCH"
      }
    },
    {
      "cell_type": "markdown",
      "source": [
        "11. What is the role of Flask-SQLAlchemy ?\n",
        "\n",
        "Simplifies Database Configuration\n",
        "\n",
        "Provides ORM Features\n",
        "\n",
        "Manages Sessions and Connections\n",
        "\n",
        "Integrates with Flask’s App Context\n",
        "\n",
        "Supports Migrations via Flask-Migrate\n"
      ],
      "metadata": {
        "id": "0QR54Ad8KxqK"
      }
    },
    {
      "cell_type": "markdown",
      "source": [
        "12. What are the Flask blueprints, and how are they useful ?\n",
        "\n",
        "Flask Blueprints are a way to organize a Flask application into modular components.\n",
        "\n",
        "They are like \"mini-apps\" that plug into main Flask app. Each blueprint can contain:\n",
        "\n",
        "Routes\n",
        "\n",
        "Templates\n",
        "\n",
        "Static files\n",
        "\n",
        "Error handlers"
      ],
      "metadata": {
        "id": "IzjVqkaVMLFo"
      }
    },
    {
      "cell_type": "markdown",
      "source": [
        "13. What is the purpose of Flasks request object ?\n",
        "\n",
        "The request object gives you access to:\n",
        "\n",
        "request.method.\n",
        "request.args\n",
        "request.form\n",
        "request.json\n",
        "request.headers\n",
        "request.files\n",
        "request.cookies\n",
        "request.data"
      ],
      "metadata": {
        "id": "JnsuuDtsNgL3"
      }
    },
    {
      "cell_type": "markdown",
      "source": [
        "14. What is the purpose of Flasks jsonify() function ?\n",
        "\n",
        "The purpose of Flask’s jsonify() function is to convert Python data structures into a JSON-formatted HTTP response, which is essential for building APIs."
      ],
      "metadata": {
        "id": "VEQ3WhFNQ_vv"
      }
    },
    {
      "cell_type": "markdown",
      "source": [
        "15. Explain Flask usl_for() funtion.\n",
        "\n",
        "Flask’s url_for() function dynamically builds a URL for a given view function name."
      ],
      "metadata": {
        "id": "18yOXDhFTpaY"
      }
    },
    {
      "cell_type": "markdown",
      "source": [
        "16. How does Flask handle static files (CSS, Javascript, etc) ?\n",
        "\n",
        "Flask provides built-in support for serving static files like CSS, JavaScript, images, and fonts.\n",
        "\n",
        "Flask expects static files to be placed in a folder named static by default:\n",
        "\n",
        "Flask automatically creates a route like this internally:"
      ],
      "metadata": {
        "id": "o6vAdBjRT6tk"
      }
    },
    {
      "cell_type": "markdown",
      "source": [
        "18. What is an API specification and how does it help building a Flask API ?\n",
        "\n",
        "An API specification is a blueprint or contract that clearly defines how your API behaves\n",
        "\n",
        "it helps:\n",
        "\n",
        "Clear Design Before Coding\n",
        "\n",
        "Front-End and Back-End Coordination\n",
        "\n",
        "Validation & Documentation\n",
        "\n",
        "Code Generation."
      ],
      "metadata": {
        "id": "eYaCp0kCVpFZ"
      }
    },
    {
      "cell_type": "markdown",
      "source": [
        "19. What are the HTTP status code, and why are they important in a Flask API?\n",
        "\n",
        "HTTP status codes are 3-digit numbers that the server sends in the response to indicate the result of the client’s request.\n",
        "\n",
        "Status Codes Important: Communicates Result Clearly, Enables Debugging, Helps Frontend & Backend Work Together\n",
        "\n"
      ],
      "metadata": {
        "id": "p2PA6hooWGEk"
      }
    },
    {
      "cell_type": "markdown",
      "source": [
        "20. How do you handle POST request in Flask?\n",
        "\n",
        "by creating a Route That Accepts POST Requests\n",
        "\n"
      ],
      "metadata": {
        "id": "oAiMfKwiWtXO"
      }
    },
    {
      "cell_type": "markdown",
      "source": [
        "21. How would you secure a Flask API ?\n",
        "\n",
        "by using HTTPS (TLS Encryption)"
      ],
      "metadata": {
        "id": "PRUP3o6PXNi6"
      }
    },
    {
      "cell_type": "markdown",
      "source": [
        "22. What is the significance of the Flask-RESTful extension?\n",
        "\n",
        "The Flask-RESTful extension is a powerful tool that helps you build REST APIs quickly and cleanly using Flask. It simplifies the process of defining API resources and routes, while keeping your code modular and organized."
      ],
      "metadata": {
        "id": "ZafN9X7XXYVS"
      }
    },
    {
      "cell_type": "markdown",
      "source": [
        "23. What is the role of Flask's session object ?\n",
        "\n",
        "The session object in Flask is used to store data across multiple requests made by the same user — just like a shopping cart or login session in a web app."
      ],
      "metadata": {
        "id": "oF-GiPiBYKMJ"
      }
    },
    {
      "cell_type": "markdown",
      "source": [
        "# practical"
      ],
      "metadata": {
        "id": "RRpl37nrZs9r"
      }
    },
    {
      "cell_type": "markdown",
      "source": [
        "1. How do you create a basic Flask application ?"
      ],
      "metadata": {
        "id": "jVGSUBwlfmqK"
      }
    },
    {
      "cell_type": "code",
      "source": [
        "\n",
        "!pip install flask\n",
        "from flask import Flask\n",
        "from google.colab.output import eval_js\n",
        "from IPython.display import display, Javascript\n",
        "\n",
        "app = Flask(__name__)\n",
        "\n",
        "@app.route('/')\n",
        "def home():\n",
        "    return \"Hello, Flask!\"\n",
        "\n",
        "def get_ngrok_url():\n",
        "    print(\"Click the link below to access the Flask app:\")\n",
        "    return eval_js(\"google.colab.kernel.proxyPort(5000)\")\n",
        "\n",
        "if __name__ == '__main__':\n",
        "    print(get_ngrok_url())  # Get public URL\n",
        "    app.run(host='0.0.0.0', port=5000)\n"
      ],
      "metadata": {
        "colab": {
          "base_uri": "https://localhost:8080/"
        },
        "id": "rHtlAzUuf2Bk",
        "outputId": "4a9a521b-c5ee-49ca-b2e5-255c631ef462"
      },
      "execution_count": null,
      "outputs": [
        {
          "output_type": "stream",
          "name": "stdout",
          "text": [
            " * Serving Flask app '__main__'\n",
            " * Debug mode: on\n"
          ]
        },
        {
          "output_type": "stream",
          "name": "stderr",
          "text": [
            "INFO:werkzeug:\u001b[31m\u001b[1mWARNING: This is a development server. Do not use it in a production deployment. Use a production WSGI server instead.\u001b[0m\n",
            " * Running on http://127.0.0.1:5000\n",
            "INFO:werkzeug:\u001b[33mPress CTRL+C to quit\u001b[0m\n",
            "INFO:werkzeug: * Restarting with stat\n"
          ]
        }
      ]
    },
    {
      "cell_type": "markdown",
      "source": [
        "2. How do you serve static files like CSS or images in Flask ?"
      ],
      "metadata": {
        "id": "6LHuytUtgqtZ"
      }
    },
    {
      "cell_type": "code",
      "source": [
        "from flask import Flask, send_from_directory\n",
        "\n",
        "app = Flask(__name__)\n",
        "\n",
        "# Route to serve a CSS file\n",
        "@app.route('/static/css/<path:filename>')\n",
        "def serve_css(filename):\n",
        "    return send_from_directory('static/css', filename)\n",
        "\n",
        "# Route to serve an image\n",
        "@app.route('/static/images/<path:filename>')\n",
        "def serve_image(filename):\n",
        "    return send_from_directory('static/images', filename)\n",
        "\n",
        "if __name__ == '__main__':\n",
        "    app.run()"
      ],
      "metadata": {
        "id": "OCEJdHRNhBcm"
      },
      "execution_count": null,
      "outputs": []
    },
    {
      "cell_type": "markdown",
      "source": [
        "3. How do you define different routes with different HTTP methods in Flask?"
      ],
      "metadata": {
        "id": "yzHEgtCRnOaJ"
      }
    },
    {
      "cell_type": "code",
      "source": [
        "\n",
        "\n",
        "from flask import Flask, request\n",
        "\n",
        "app = Flask(__name__)\n",
        "\n",
        "# Route that supports GET and POST methods\n",
        "@app.route('/data', methods=['GET', 'POST'])\n",
        "def handle_data():\n",
        "    if request.method == 'GET':\n",
        "        return \"This is a GET request\"\n",
        "    elif request.method == 'POST':\n",
        "        return \"This is a POST request\"\n",
        "\n",
        "# Route that supports only PUT method\n",
        "@app.route('/update', methods=['PUT'])\n",
        "def update_data():\n",
        "    return \"This is a PUT request\"\n",
        "\n",
        "# Route that supports DELETE method\n",
        "@app.route('/delete', methods=['DELETE'])\n",
        "def delete_data():\n",
        "    return \"This is a DELETE request\"\n",
        "\n",
        "if __name__ == '__main__':\n",
        "    app.run()\n"
      ],
      "metadata": {
        "id": "g3hfW4cfnNpn"
      },
      "execution_count": null,
      "outputs": []
    },
    {
      "cell_type": "markdown",
      "source": [
        "4. How do you render HTML templates in Flask?"
      ],
      "metadata": {
        "id": "qCz8yMejniHq"
      }
    },
    {
      "cell_type": "code",
      "source": [
        "\n",
        "from flask import Flask, render_template\n",
        "\n",
        "app = Flask(__name__)\n",
        "\n",
        "# Route to render an HTML template\n",
        "@app.route('/')\n",
        "def home():\n",
        "    return render_template('index.html')\n",
        "\n",
        "if __name__ == '__main__':\n",
        "    app.run()"
      ],
      "metadata": {
        "id": "JkAZI1OknjIS"
      },
      "execution_count": null,
      "outputs": []
    },
    {
      "cell_type": "code",
      "source": [],
      "metadata": {
        "id": "xh0nzksXnoIY"
      },
      "execution_count": null,
      "outputs": []
    },
    {
      "cell_type": "markdown",
      "source": [
        "5. How can you generate URLs for routes in Flask using url_for?"
      ],
      "metadata": {
        "id": "hBezHwcBnsET"
      }
    },
    {
      "cell_type": "code",
      "source": [
        "\n",
        "\n",
        "from flask import Flask, url_for\n",
        "\n",
        "app = Flask(__name__)\n",
        "\n",
        "# Sample route\n",
        "@app.route('/')\n",
        "def home():\n",
        "    return f\"Home Page - <a href='{url_for('profile', username='john_doe')}'>Go to Profile</a>\"\n",
        "\n",
        "# Dynamic route with a parameter\n",
        "@app.route('/profile/<username>')\n",
        "def profile(username):\n",
        "    return f\"Welcome to {username}'s profile!\"\n",
        "\n",
        "if __name__ == '__main__':\n",
        "    app.run()"
      ],
      "metadata": {
        "id": "orGSolTQnvrm"
      },
      "execution_count": null,
      "outputs": []
    },
    {
      "cell_type": "markdown",
      "source": [
        "6. How do you handle forms in Flask?"
      ],
      "metadata": {
        "id": "97_C7BgGn1A9"
      }
    },
    {
      "cell_type": "code",
      "source": [
        "\n",
        "\n",
        "from flask import Flask, render_template, request\n",
        "\n",
        "app = Flask(__name__)\n",
        "\n",
        "# HTML form template\n",
        "form_html = \"\"\"\n",
        "<!DOCTYPE html>\n",
        "<html>\n",
        "<head>\n",
        "    <title>Flask Form</title>\n",
        "</head>\n",
        "<body>\n",
        "    <h2>Enter Your Name</h2>\n",
        "    <form method=\"POST\">\n",
        "        <input type=\"text\" name=\"username\" required>\n",
        "        <input type=\"submit\" value=\"Submit\">\n",
        "    </form>\n",
        "    {% if name %}\n",
        "        <h3>Hello, {{ name }}!</h3>\n",
        "    {% endif %}\n",
        "</body>\n",
        "</html>\n",
        "\"\"\"\n",
        "\n",
        "@app.route('/', methods=['GET', 'POST'])\n",
        "def form():\n",
        "    if request.method == 'POST':\n",
        "        name = request.form['username']\n",
        "        return render_template('form.html', name=name)\n",
        "    return render_template('form.html', name=None)\n",
        "\n",
        "# Save the form HTML as a template file\n",
        "with open(\"templates/form.html\", \"w\") as file:\n",
        "    file.write(form_html)\n",
        "\n",
        "if __name__ == '__main__':\n",
        "    app.run()"
      ],
      "metadata": {
        "id": "tgXtH8Pcnz19"
      },
      "execution_count": null,
      "outputs": []
    },
    {
      "cell_type": "markdown",
      "source": [
        "7. How can you validate form data in Flask?"
      ],
      "metadata": {
        "id": "pXhaCVYnoUhN"
      }
    },
    {
      "cell_type": "code",
      "source": [
        "\n",
        "from flask import Flask, request, render_template_string\n",
        "\n",
        "app = Flask(__name__)\n",
        "\n",
        "HTML_FORM = \"\"\"\n",
        "<!DOCTYPE html>\n",
        "<html>\n",
        "<head>\n",
        "    <title>Flask Form Validation</title>\n",
        "</head>\n",
        "<body>\n",
        "    <h2>Flask Form Validation</h2>\n",
        "    <form method=\"POST\" action=\"/submit\">\n",
        "        <label for=\"name\">Name:</label>\n",
        "        <input type=\"text\" id=\"name\" name=\"name\" value=\"{{ name or '' }}\">\n",
        "        <span style=\"color: red;\">{{ errors.name if errors and 'name' in errors else '' }}</span>\n",
        "        <br><br>\n",
        "\n",
        "        <label for=\"email\">Email:</label>\n",
        "        <input type=\"text\" id=\"email\" name=\"email\" value=\"{{ email or '' }}\">\n",
        "        <span style=\"color: red;\">{{ errors.email if errors and 'email' in errors else '' }}</span>\n",
        "        <br><br>\n",
        "\n",
        "        <button type=\"submit\">Submit</button>\n",
        "    </form>\n",
        "\n",
        "    {% if success %}\n",
        "        <p style=\"color: green;\">{{ success }}</p>\n",
        "    {% endif %}\n",
        "</body>\n",
        "</html>\n",
        "\"\"\"\n",
        "\n",
        "@app.route('/')\n",
        "def index():\n",
        "    return render_template_string(HTML_FORM)\n",
        "\n",
        "@app.route('/submit', methods=['POST'])\n",
        "def submit():\n",
        "    data = request.form\n",
        "    errors = {}\n",
        "\n",
        "    # Validate name field\n",
        "    name = data.get('name')\n",
        "    if not name:\n",
        "        errors['name'] = \"Name is required.\"\n",
        "    elif len(name) < 3:\n",
        "        errors['name'] = \"Name must be at least 3 characters long.\"\n",
        "\n",
        "    # Validate email field\n",
        "    email = data.get('email')\n",
        "    if not email:\n",
        "        errors['email'] = \"Email is required.\"\n",
        "    elif '@' not in email or '.' not in email:\n",
        "        errors['email'] = \"Invalid email format.\"\n",
        "\n",
        "    # If there are validation errors\n",
        "    if errors:\n",
        "        return render_template_string(HTML_FORM, errors=errors, name=name, email=email)\n",
        "\n",
        "    # If validation passes\n",
        "    return render_template_string(HTML_FORM, success=\"Form submitted successfully!\", name=name, email=email)\n",
        "\n",
        "if __name__ == '__main__':\n",
        "    app.run(debug=True)"
      ],
      "metadata": {
        "id": "PseAtJ1YoaC1"
      },
      "execution_count": null,
      "outputs": []
    },
    {
      "cell_type": "markdown",
      "source": [
        "8. How do you manage sessions in Flask?\n"
      ],
      "metadata": {
        "id": "68USXB6FoyGe"
      }
    },
    {
      "cell_type": "code",
      "source": [
        "\n",
        "from flask import Flask, session, jsonify\n",
        "\n",
        "app = Flask(__name__)\n",
        "\n",
        "# Secret key is required for session handling\n",
        "app.secret_key = \"supersecretkey\"\n",
        "\n",
        "# Route to set a session variable\n",
        "@app.route('/set-session')\n",
        "def set_session():\n",
        "    session['username'] = 'JohnDoe'  # Storing data in session\n",
        "    return jsonify({\"message\": \"Session has been set!\"})\n",
        "\n",
        "# Route to get a session variable\n",
        "@app.route('/get-session')\n",
        "def get_session():\n",
        "    username = session.get('username', 'Not Set')  # Retrieving session data\n",
        "    return jsonify({\"username\": username})\n",
        "\n",
        "# Route to clear a session variable\n",
        "@app.route('/clear-session')\n",
        "def clear_session():\n",
        "    session.pop('username', None)  # Removing session data\n",
        "    return jsonify({\"message\": \"Session has been cleared!\"})\n",
        "\n",
        "if __name__ == '__main__':\n",
        "    app.run(debug=True)  # Running the Flask app"
      ],
      "metadata": {
        "id": "mS3zoHJbo0VM"
      },
      "execution_count": null,
      "outputs": []
    },
    {
      "cell_type": "markdown",
      "source": [
        "9. How do you redirect to a different route in Flask?"
      ],
      "metadata": {
        "id": "RXQvepMpo7Q4"
      }
    },
    {
      "cell_type": "code",
      "source": [
        "\n",
        "\n",
        "from flask import Flask, redirect, url_for\n",
        "\n",
        "app = Flask(__name__)\n",
        "\n",
        "# Home route\n",
        "@app.route('/')\n",
        "def home():\n",
        "    return \"Welcome to the Home Page!\"\n",
        "\n",
        "# Route to handle redirection\n",
        "@app.route('/redirect-me')\n",
        "def redirect_me():\n",
        "    return redirect(url_for('home'))  # Redirecting to the home route\n",
        "\n",
        "if __name__ == '__main__':\n",
        "    app.run(debug=True)  # Running the Flask app"
      ],
      "metadata": {
        "id": "2WrUrJcRo8K3"
      },
      "execution_count": null,
      "outputs": []
    },
    {
      "cell_type": "markdown",
      "source": [
        "10. How do you handle errors in Flask (e.g., 404)?"
      ],
      "metadata": {
        "id": "Arrvub7hpAqd"
      }
    },
    {
      "cell_type": "code",
      "source": [
        "\n",
        "\n",
        "from flask import Flask, render_template\n",
        "\n",
        "app = Flask(__name__)\n",
        "\n",
        "# Home route\n",
        "@app.route('/')\n",
        "def home():\n",
        "    return \"Welcome to the Home Page!\"\n",
        "\n",
        "# Custom error handler for 404 Not Found\n",
        "@app.errorhandler(404)\n",
        "def page_not_found(error):\n",
        "    return \"<h1>404 - Page Not Found</h1>\", 404  # Returning a custom 404 page\n",
        "\n",
        "if __name__ == '__main__':\n",
        "    app.run(debug=True)  # Running the Flask app"
      ],
      "metadata": {
        "id": "fxzmy2WWpBrE"
      },
      "execution_count": null,
      "outputs": []
    },
    {
      "cell_type": "markdown",
      "source": [
        "11. How do you structure a Flask app using Blueprints?"
      ],
      "metadata": {
        "id": "mrA2KBM_pJo3"
      }
    },
    {
      "cell_type": "code",
      "source": [
        "\n",
        "\n",
        "from flask import Flask, Blueprint\n",
        "\n",
        "app = Flask(__name__)\n",
        "\n",
        "# Creating a Blueprint for user-related routes\n",
        "user_bp = Blueprint('user', __name__)\n",
        "\n",
        "@user_bp.route('/profile')\n",
        "def profile():\n",
        "    return \"User Profile Page\"\n",
        "\n",
        "@user_bp.route('/settings')\n",
        "def settings():\n",
        "    return \"User Settings Page\"\n",
        "\n",
        "# Registering the Blueprint with the Flask app\n",
        "app.register_blueprint(user_bp, url_prefix='/user')\n",
        "\n",
        "# Home route\n",
        "@app.route('/')\n",
        "def home():\n",
        "    return \"Welcome to the Home Page!\"\n",
        "\n",
        "if __name__ == '__main__':\n",
        "    app.run(debug=True)  # Running the Flask app"
      ],
      "metadata": {
        "id": "no9m1R6opVdC"
      },
      "execution_count": null,
      "outputs": []
    },
    {
      "cell_type": "code",
      "source": [],
      "metadata": {
        "id": "t4x9VisppX_9"
      },
      "execution_count": null,
      "outputs": []
    },
    {
      "cell_type": "markdown",
      "source": [
        "12. How do you define a custom Jinja filter in Flask?"
      ],
      "metadata": {
        "id": "XNULrUPupY-A"
      }
    },
    {
      "cell_type": "code",
      "source": [
        "\n",
        "\n",
        "from flask import Flask, render_template_string\n",
        "\n",
        "app = Flask(__name__)\n",
        "\n",
        "# Defining a custom Jinja filter\n",
        "def reverse_string(s):\n",
        "    return s[::-1]\n",
        "\n",
        "# Registering the custom filter with Flask\n",
        "app.jinja_env.filters['reverse'] = reverse_string\n",
        "\n",
        "@app.route('/')\n",
        "def home():\n",
        "    template = \"\"\"\n",
        "    <html>\n",
        "        <body>\n",
        "            <h1>Custom Jinja Filter Example</h1>\n",
        "            <p>Original: Hello Flask!</p>\n",
        "            <p>Reversed: {{ 'Hello Flask!' | reverse }}</p>\n",
        "        </body>\n",
        "    </html>\n",
        "    \"\"\"\n",
        "    return render_template_string(template)\n",
        "\n",
        "if __name__ == '__main__':\n",
        "    app.run(debug=True)  # Running the Flask app"
      ],
      "metadata": {
        "id": "oH9DO48TpcfQ"
      },
      "execution_count": null,
      "outputs": []
    },
    {
      "cell_type": "markdown",
      "source": [
        "13. How can you redirect with query parameters in Flask?"
      ],
      "metadata": {
        "id": "nMNXr6uTpec-"
      }
    },
    {
      "cell_type": "code",
      "source": [
        "\n",
        "\n",
        "from flask import Flask, redirect, url_for, request\n",
        "\n",
        "app = Flask(__name__)\n",
        "\n",
        "@app.route('/')\n",
        "def home():\n",
        "    return \"<h1>Home Page</h1><p>Go to <a href='/login'>Login</a></p>\"\n",
        "\n",
        "@app.route('/login')\n",
        "def login():\n",
        "    # Redirecting to the profile page with a query parameter (username)\n",
        "    return redirect(url_for('profile', username='Shasang'))\n",
        "\n",
        "@app.route('/profile')\n",
        "def profile():\n",
        "    username = request.args.get('username', 'Guest')  # Retrieving query parameter\n",
        "    return f\"<h1>Welcome, {username}!</h1>\"\n",
        "\n",
        "if __name__ == '__main__':\n",
        "    app.run(debug=True)  # Running the Flask app"
      ],
      "metadata": {
        "id": "KlGLdNQnpi0A"
      },
      "execution_count": null,
      "outputs": []
    },
    {
      "cell_type": "markdown",
      "source": [
        "14. How do you return JSON responses in Flask?"
      ],
      "metadata": {
        "id": "A3PB3hNXplj4"
      }
    },
    {
      "cell_type": "code",
      "source": [
        "\n",
        "\n",
        "from flask import Flask, jsonify\n",
        "\n",
        "app = Flask(__name__)\n",
        "\n",
        "@app.route('/data')\n",
        "def get_data():\n",
        "    # Creating a sample dictionary to return as JSON\n",
        "    data = {\n",
        "        \"name\": \"Shasang\",\n",
        "        \"age\": 25,\n",
        "        \"city\": \"Surat\"\n",
        "    }\n",
        "\n",
        "    # Returning JSON response using jsonify()\n",
        "    return jsonify(data)\n",
        "\n",
        "if __name__ == '__main__':\n",
        "    app.run(debug=True)  # Running the Flask app"
      ],
      "metadata": {
        "id": "TFH0KJ0Rpk0Z"
      },
      "execution_count": null,
      "outputs": []
    },
    {
      "cell_type": "markdown",
      "source": [
        "15. How do you capture URL parameters in Flask?"
      ],
      "metadata": {
        "id": "SlWsYbi1psno"
      }
    },
    {
      "cell_type": "code",
      "source": [
        "\n",
        "\n",
        "from flask import Flask\n",
        "\n",
        "app = Flask(__name__)\n",
        "\n",
        "# Defining a route with a URL parameter <username>\n",
        "@app.route('/user/<username>')\n",
        "def show_user_profile(username):\n",
        "    return f'User Profile: {username}'  # Returning the captured username\n",
        "\n",
        "# Defining a route with an integer URL parameter <int:user_id>\n",
        "@app.route('/user/id/<int:user_id>')\n",
        "def show_user_by_id(user_id):\n",
        "    return f'User ID: {user_id}'  # Returning the captured user ID\n",
        "\n",
        "if __name__ == '__main__':\n",
        "    app.run(debug=True)  # Running the Flask app"
      ],
      "metadata": {
        "id": "io5qItGnptjO"
      },
      "execution_count": null,
      "outputs": []
    }
  ]
}