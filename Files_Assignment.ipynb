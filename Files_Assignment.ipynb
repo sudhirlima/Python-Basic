{
  "nbformat": 4,
  "nbformat_minor": 0,
  "metadata": {
    "colab": {
      "provenance": []
    },
    "kernelspec": {
      "name": "python3",
      "display_name": "Python 3"
    },
    "language_info": {
      "name": "python"
    }
  },
  "cells": [
    {
      "cell_type": "markdown",
      "source": [
        "# Files Assignments; Theory"
      ],
      "metadata": {
        "id": "dazDHBU3Nx6r"
      }
    },
    {
      "cell_type": "markdown",
      "source": [
        "1. What is the difference bewteen interpreted and compiled languages ?\n",
        "\n",
        "Interpreted Language:\n",
        "Runs line by line, slower, more portable, easier for quick scripts.\n",
        "\n",
        "Compiled Language:\n",
        "Runs after compilation into machine code, faster, less portable, used for high-performance applications."
      ],
      "metadata": {
        "id": "_DoqZW_lN-2Z"
      }
    },
    {
      "cell_type": "markdown",
      "source": [
        "2. What is exception handling in Python ?\n",
        "\n",
        "Exception handling makes programs robust, user-friendly, and prevents crashes by managing errors gracefully."
      ],
      "metadata": {
        "id": "YJShKpgGQil8"
      }
    },
    {
      "cell_type": "markdown",
      "source": [
        "3. What is the purpose of the finally block in exception handling ?\n",
        "\n",
        "The finally block is used to execute code regardless of whether an exception was raised or not in the try block."
      ],
      "metadata": {
        "id": "7yojJqXfReRJ"
      }
    },
    {
      "cell_type": "markdown",
      "source": [
        "4. What is logging in Python ?\n",
        "\n",
        "Logging is a way to track events that happen when your code runs. The Python logging module records messages about the execution of your program.\n"
      ],
      "metadata": {
        "id": "X-Kq20jNleRS"
      }
    },
    {
      "cell_type": "markdown",
      "source": [
        "5. What is the significance of __del__ method in Python ?\n",
        "\n",
        "__del__ is a special method in Python known as a destructor method. It is called when an object is about to be destroyed (garbage collected)."
      ],
      "metadata": {
        "id": "camj-2tmls8r"
      }
    },
    {
      "cell_type": "markdown",
      "source": [
        "6. What is the difference between import and from ...import in Python ?\n",
        "\n",
        "a. import module ➔ imports the entire module (use functions with module prefix).\n",
        "b. from module import function ➔ imports specific attributes directly (no prefix needed)."
      ],
      "metadata": {
        "id": "B4OPn1xpoRSs"
      }
    },
    {
      "cell_type": "markdown",
      "source": [
        "7. How can you handle multiple exceptions in Python ?\n",
        "\n",
        "You can handle different exceptions separately by writing multiple except blocks:"
      ],
      "metadata": {
        "id": "k7R2Kz8mpBM3"
      }
    },
    {
      "cell_type": "markdown",
      "source": [
        "8. What is the purpose of the with statement when handling files in python?\n",
        "\n",
        "The with statement automatically closes the file after its block is executed, even if an error occurs within that block. This prevents resource leaks."
      ],
      "metadata": {
        "id": "nKt2-5-Ro9EV"
      }
    },
    {
      "cell_type": "markdown",
      "source": [
        "9. What is the difference between multitheading and multiprocessing ?\n",
        "\n",
        "Multithreading: is Downloading multiple files from the internet simultaneously, Reading multiple files concurrently\n",
        "Multiprocessing: is Performing large matrix computations, Data processing pipelines on multiple CPU cores"
      ],
      "metadata": {
        "id": "Rb6kNO3IAJlC"
      }
    },
    {
      "cell_type": "markdown",
      "source": [
        "10. Waht are the advantages of using loggin in a program ?\n",
        "\n",
        "Logs help you trace the flow of execution, see where errors occurred, and understand program behaviour over time."
      ],
      "metadata": {
        "id": "_FzKMLH4ApKd"
      }
    },
    {
      "cell_type": "markdown",
      "source": [
        "11.  What is memory management in python ?\n",
        "\n",
        "\n",
        "Memory management in Python refers to the process of allocating, managing, and releasing memory during the execution of a program.\n"
      ],
      "metadata": {
        "id": "i5UydMnnA1eN"
      }
    },
    {
      "cell_type": "markdown",
      "source": [
        "12. What are the basic steps involved in exception handling in python ?\n",
        "\n",
        "Determine the part of code where errors might occur (e.g. file operations, user inputs, division).\n"
      ],
      "metadata": {
        "id": "-cNnkqX0A_4z"
      }
    },
    {
      "cell_type": "markdown",
      "source": [
        "13. Why is memory management important in python ?\n",
        "\n",
        "Efficient Resource Utilization\n",
        "Prevents Memory Leaks\n",
        "Enhances Program Stability\n",
        "Supports Scalability\n",
        "Simplifies Developer’s Job\n",
        "Prevents Program Slowdown"
      ],
      "metadata": {
        "id": "DlbTkhXoBhQ7"
      }
    },
    {
      "cell_type": "markdown",
      "source": [
        "14. What is the role of try and except in exception handling?\n",
        "\n",
        "try – Test risky code for possible errors.\n",
        "\n",
        "except – Handle specific or general exceptions to keep the program running smoothly."
      ],
      "metadata": {
        "id": "S_Sp7oilGyWm"
      }
    },
    {
      "cell_type": "markdown",
      "source": [
        "15. How does python's garbage collection system work ?\n",
        "\n",
        "Python’s garbage collection system is responsible for automatically freeing up memory by destroying unused objects."
      ],
      "metadata": {
        "id": "8h6mpe23Ic4b"
      }
    },
    {
      "cell_type": "markdown",
      "source": [
        "16. What is the purpose of else block in exception handling ?\n",
        "In Python’s exception handling, the else block is used to execute code that should run only if no exception was raised in the try block."
      ],
      "metadata": {
        "id": "l6_mSmgzc3_g"
      }
    },
    {
      "cell_type": "markdown",
      "source": [
        "17. What are the common loggin levels in Python ?\n",
        "\n",
        "Here are the common logging levels in Python :\n",
        "\n",
        "DEBUG\t10\tDetailed information, typically of interest only when diagnosing problems. Used for debugging.\n",
        "\n",
        "INFO\t20\tConfirmation that things are working as expected. General purpose operational messages.\n",
        "\n",
        "WARNING\t30\tAn indication that something unexpected happened, or indicative of some problem in the near future (e.g. ‘disk space low’). The program is still working as expected.\n",
        "\n",
        "ERROR\t40\tDue to a more serious problem, the program has not been able to perform some function.\n",
        "\n",
        "CRITICAL\t50"
      ],
      "metadata": {
        "id": "gk_wpn8XdF8o"
      }
    },
    {
      "cell_type": "markdown",
      "source": [
        "18. What is the difference between os.fork() and multiprocessing in python ?\n",
        "\n",
        "os.fork() is a low-level system call used in Unix/Linux systems.\n",
        "\n",
        "High-level module in Python for process-based parallelism"
      ],
      "metadata": {
        "id": "H13Zl-4ddgLF"
      }
    },
    {
      "cell_type": "markdown",
      "source": [
        "19. What is the importance of closing a file in python ?\n",
        "\n",
        "importance is:\n",
        "\n",
        "Frees up system resources\n",
        "\n",
        "Flushes unwritten data to disk\n",
        "\n",
        "Prevents data corruption\n",
        "\n",
        "Is a good programming habit for robust code"
      ],
      "metadata": {
        "id": "_Hx_EZNDd25B"
      }
    },
    {
      "cell_type": "markdown",
      "source": [
        "20. waht is the difference between file.read() and file.readline() in python ?\n",
        "\n",
        "file.read(): Reads the entire file content at once as a single string.\n",
        "file.readline(): reads line by line\n",
        "\n"
      ],
      "metadata": {
        "id": "BLGO9hyveK9J"
      }
    },
    {
      "cell_type": "markdown",
      "source": [
        "21. what is the logging module used in python ?\n",
        "\n",
        "The logging module is Python’s built-in standard module used to record (log) messages from your programs.\n"
      ],
      "metadata": {
        "id": "p51XXGweedXD"
      }
    },
    {
      "cell_type": "markdown",
      "source": [
        "22. What is the OS module in python used for in file handling ?\n",
        "The os module provides a way to interact with the operating system. In file handling, it helps manage files and directories efficiently."
      ],
      "metadata": {
        "id": "9LILmoDNeq1l"
      }
    },
    {
      "cell_type": "markdown",
      "source": [
        "23. What are the challanges associated with memory management in Python ?\n",
        "\n",
        "While Python has automatic memory management via its built-in Garbage Collector (GC), there are still several challenges:\n",
        "Reference cycle\n",
        "Memory leaks\n",
        "Fragmentation\n",
        "Highmemory usage\n",
        "Non-determistic garbage collection\n",
        "Global Interpreter Lock (GIL)\n",
        "Handling Large Data"
      ],
      "metadata": {
        "id": "hDQixLkGe2JE"
      }
    },
    {
      "cell_type": "markdown",
      "source": [
        "24. How do you raise exception manually in python ?\n",
        "\n",
        "You can raise an exception manually using the raise keyword."
      ],
      "metadata": {
        "id": "HjNa1VLwfbdD"
      }
    },
    {
      "cell_type": "markdown",
      "source": [
        "25. Why its important to use multitreading in certain applications ?\n",
        "\n",
        "Multithreading allows multiple threads to run seemingly at the same time, enabling concurrent execution within a single process."
      ],
      "metadata": {
        "id": "QFU0UuoefnR3"
      }
    },
    {
      "cell_type": "code",
      "execution_count": null,
      "metadata": {
        "id": "_28GTuskNpOP"
      },
      "outputs": [],
      "source": []
    },
    {
      "cell_type": "markdown",
      "source": [
        "# Practical Questions\n"
      ],
      "metadata": {
        "id": "LaBwdrxwf0om"
      }
    },
    {
      "cell_type": "markdown",
      "source": [
        "1. How can you open a file for writing in python and write a string to it ?"
      ],
      "metadata": {
        "id": "py1XPAECf3xj"
      }
    },
    {
      "cell_type": "code",
      "source": [
        "file = open(\"example.txt\", \"w\")\n",
        "file.write(\"Hello, this is another way to write to a file.\")\n",
        "file.close()\n"
      ],
      "metadata": {
        "id": "t9eauOSUgJgs"
      },
      "execution_count": null,
      "outputs": []
    },
    {
      "cell_type": "markdown",
      "source": [
        "2. Write a python program to read the contents of a file and print each line."
      ],
      "metadata": {
        "id": "pPyJX-q7Ea0b"
      }
    },
    {
      "cell_type": "code",
      "source": [
        "# Python program to read the contents of a file and print each line\n",
        "\n",
        "# Open the file in read mode\n",
        "with open(\"example.txt\", \"r\") as file:\n",
        "    # Loop through each line in the file\n",
        "    for line in file:\n",
        "        # Print the line after stripping the newline character\n",
        "        print(line.strip())\n"
      ],
      "metadata": {
        "colab": {
          "base_uri": "https://localhost:8080/"
        },
        "id": "4v6gRL3FEwC-",
        "outputId": "f128eec5-3e1e-46c1-8660-ce4eb90ab079"
      },
      "execution_count": null,
      "outputs": [
        {
          "output_type": "stream",
          "name": "stdout",
          "text": [
            "Hello, this is another way to write to a file.\n"
          ]
        }
      ]
    },
    {
      "cell_type": "markdown",
      "source": [
        "3. How would you handle a case where a file doesn't exist while trying to open it for reading ?"
      ],
      "metadata": {
        "id": "92oroh4HE0su"
      }
    },
    {
      "cell_type": "code",
      "source": [
        "filename = \"non_existing_file.txt\"\n",
        "\n",
        "try:\n",
        "    with open(filename, \"r\") as file:\n",
        "        content = file.read()\n",
        "        print(content)\n",
        "except FileNotFoundError:\n",
        "    print(f\"The file '{filename}' does not exist.\")\n"
      ],
      "metadata": {
        "colab": {
          "base_uri": "https://localhost:8080/"
        },
        "id": "dXnwlapYFFtk",
        "outputId": "5001eab5-174b-478e-b736-32f9814878d1"
      },
      "execution_count": null,
      "outputs": [
        {
          "output_type": "stream",
          "name": "stdout",
          "text": [
            "The file 'non_existing_file.txt' does not exist.\n"
          ]
        }
      ]
    },
    {
      "cell_type": "markdown",
      "source": [
        "4. Write a python script that reads from one file and writes its contents to another file."
      ],
      "metadata": {
        "id": "o7pGrzyxFO0d"
      }
    },
    {
      "cell_type": "code",
      "source": [
        "# Python script to copy contents from one file to another\n",
        "\n",
        "# Specify source and destination file names\n",
        "source_file = \"source.txt\"\n",
        "destination_file = \"destination.txt\"\n",
        "\n",
        "try:\n",
        "    # Open the source file in read mode\n",
        "    with open(source_file, \"r\") as src:\n",
        "        # Read all contents from the source file\n",
        "        contents = src.read()\n",
        "\n",
        "    # Open the destination file in write mode\n",
        "    with open(destination_file, \"w\") as dest:\n",
        "        # Write the contents to the destination file\n",
        "        dest.write(contents)\n",
        "\n",
        "    print(f\"Contents copied from '{source_file}' to '{destination_file}' successfully.\")\n",
        "\n",
        "except FileNotFoundError:\n",
        "    print(f\"The file '{source_file}' does not exist.\")\n"
      ],
      "metadata": {
        "colab": {
          "base_uri": "https://localhost:8080/"
        },
        "id": "_50xol-tF2mz",
        "outputId": "21c217fb-f59b-4b4c-9f46-45855b5067c3"
      },
      "execution_count": null,
      "outputs": [
        {
          "output_type": "stream",
          "name": "stdout",
          "text": [
            "The file 'source.txt' does not exist.\n"
          ]
        }
      ]
    },
    {
      "cell_type": "markdown",
      "source": [
        "5. How would you catch and handle division by zero error in Python."
      ],
      "metadata": {
        "id": "SuzMRwTZGAqd"
      }
    },
    {
      "cell_type": "code",
      "source": [
        "try:\n",
        "    num1 = int(input(\"Enter numerator: \"))\n",
        "    num2 = int(input(\"Enter denominator: \"))\n",
        "    result = num1 / num2\n",
        "    print(\"Result:\", result)\n",
        "except ZeroDivisionError:\n",
        "    print(\"Error: Division by zero is not allowed.\")\n"
      ],
      "metadata": {
        "id": "kvVgQsnfgKUG",
        "colab": {
          "base_uri": "https://localhost:8080/"
        },
        "outputId": "4ad51a36-2fbb-4438-8127-8a5eaab56731"
      },
      "execution_count": null,
      "outputs": [
        {
          "output_type": "stream",
          "name": "stdout",
          "text": [
            "Enter numerator: 134\n",
            "Enter denominator: 0\n",
            "Error: Division by zero is not allowed.\n"
          ]
        }
      ]
    },
    {
      "cell_type": "markdown",
      "source": [
        "6. Write a python program that logs an error message to a log file when a division by zero exception occurs."
      ],
      "metadata": {
        "id": "hyPoZDejGWXg"
      }
    },
    {
      "cell_type": "code",
      "source": [
        "import logging\n",
        "\n",
        "# Configure logging to write to a file\n",
        "logging.basicConfig(filename='error_log.txt',\n",
        "                    level=logging.ERROR,\n",
        "                    format='%(asctime)s - %(levelname)s - %(message)s')\n",
        "\n",
        "try:\n",
        "    num1 = int(input(\"Enter numerator: \"))\n",
        "    num2 = int(input(\"Enter denominator: \"))\n",
        "    result = num1 / num2\n",
        "    print(\"Result:\", result)\n",
        "except ZeroDivisionError as e:\n",
        "    print(\"Error: Division by zero is not allowed.\")\n",
        "    logging.error(\"Division by zero attempted. Exception: %s\", e)\n"
      ],
      "metadata": {
        "colab": {
          "base_uri": "https://localhost:8080/"
        },
        "id": "QmesPhooGMcO",
        "outputId": "a0a1af91-8ecb-472e-f97a-8449c882ed47"
      },
      "execution_count": null,
      "outputs": [
        {
          "name": "stdout",
          "output_type": "stream",
          "text": [
            "Enter numerator: 234\n",
            "Enter denominator: 0\n"
          ]
        },
        {
          "output_type": "stream",
          "name": "stderr",
          "text": [
            "ERROR:root:Division by zero attempted. Exception: division by zero\n"
          ]
        },
        {
          "output_type": "stream",
          "name": "stdout",
          "text": [
            "Error: Division by zero is not allowed.\n"
          ]
        }
      ]
    },
    {
      "cell_type": "markdown",
      "source": [
        "7. How do you log information at different levels (INFO, ERROR, WARNING) in python using logging module?"
      ],
      "metadata": {
        "id": "mtMTVDE9G2pN"
      }
    },
    {
      "cell_type": "code",
      "source": [
        "import logging\n",
        "\n",
        "# Configure logging\n",
        "logging.basicConfig(filename='app_log.txt',\n",
        "                    level=logging.DEBUG,   # Set minimum level to DEBUG to capture all levels\n",
        "                    format='%(asctime)s - %(levelname)s - %(message)s')\n",
        "\n",
        "# Log at different levels\n",
        "logging.debug(\"This is a DEBUG message for detailed diagnostic information.\")\n",
        "logging.info(\"This is an INFO message confirming normal operation.\")\n",
        "logging.warning(\"This is a WARNING message indicating a potential problem.\")\n",
        "logging.error(\"This is an ERROR message indicating a failure in a function.\")\n",
        "logging.critical(\"This is a CRITICAL message indicating a severe error.\")\n"
      ],
      "metadata": {
        "colab": {
          "base_uri": "https://localhost:8080/"
        },
        "id": "f9dwDD9OHauJ",
        "outputId": "ee964637-2e1f-40fe-989d-729bd35bc558"
      },
      "execution_count": null,
      "outputs": [
        {
          "output_type": "stream",
          "name": "stderr",
          "text": [
            "WARNING:root:This is a WARNING message indicating a potential problem.\n",
            "ERROR:root:This is an ERROR message indicating a failure in a function.\n",
            "CRITICAL:root:This is a CRITICAL message indicating a severe error.\n"
          ]
        }
      ]
    },
    {
      "cell_type": "markdown",
      "source": [
        "8. Write a program to handle a file opening error using exception handling."
      ],
      "metadata": {
        "id": "CtuffrZxHeA7"
      }
    },
    {
      "cell_type": "code",
      "source": [
        "# Python program to handle file opening error using exception handling\n",
        "\n",
        "filename = \"example.txt\"\n",
        "\n",
        "try:\n",
        "    # Attempt to open the file in read mode\n",
        "    with open(filename, \"r\") as file:\n",
        "        contents = file.read()\n",
        "        print(\"File contents:\\n\", contents)\n",
        "except FileNotFoundError:\n",
        "    print(f\"Error: The file '{filename}' was not found.\")\n",
        "except IOError:\n",
        "    print(f\"Error: Could not read the file '{filename}'.\")\n"
      ],
      "metadata": {
        "colab": {
          "base_uri": "https://localhost:8080/"
        },
        "id": "np4Jxit0H0xg",
        "outputId": "afde0ccd-e34c-4397-eb5a-772b5a23f70b"
      },
      "execution_count": null,
      "outputs": [
        {
          "output_type": "stream",
          "name": "stdout",
          "text": [
            "File contents:\n",
            " Hello, this is another way to write to a file.\n"
          ]
        }
      ]
    },
    {
      "cell_type": "markdown",
      "source": [
        "9. How can you read a file line by line and store its contents in a list in python ?"
      ],
      "metadata": {
        "id": "eylFOaTAH2fS"
      }
    },
    {
      "cell_type": "code",
      "source": [
        "# Read file lines into a list using readlines()\n",
        "\n",
        "filename = \"example.txt\"\n",
        "\n",
        "try:\n",
        "    with open(filename, \"r\") as file:\n",
        "        lines = file.readlines()  # stores each line as an element in the list\n",
        "    print(lines)\n",
        "except FileNotFoundError:\n",
        "    print(f\"The file '{filename}' does not exist.\")\n"
      ],
      "metadata": {
        "colab": {
          "base_uri": "https://localhost:8080/"
        },
        "id": "mpthYYk9ILgM",
        "outputId": "ed407bb9-791d-4906-c5f4-26b18c6ca8ce"
      },
      "execution_count": null,
      "outputs": [
        {
          "output_type": "stream",
          "name": "stdout",
          "text": [
            "['Hello, this is another way to write to a file.']\n"
          ]
        }
      ]
    },
    {
      "cell_type": "markdown",
      "source": [
        "10. How can you append data to an existing file ?"
      ],
      "metadata": {
        "id": "_LECuxuvINGe"
      }
    },
    {
      "cell_type": "code",
      "source": [
        "# Python program to append data to an existing file\n",
        "\n",
        "filename = \"example.txt\"\n",
        "\n",
        "try:\n",
        "    with open(filename, \"a\") as file:\n",
        "        file.write(\"\\nThis is the new line being appended.\")\n",
        "    print(f\"Data has been appended to '{filename}' successfully.\")\n",
        "except FileNotFoundError:\n",
        "    print(f\"The file '{filename}' does not exist.\")\n",
        "except IOError:\n",
        "    print(f\"Error: Could not write to the file '{filename}'.\")\n"
      ],
      "metadata": {
        "colab": {
          "base_uri": "https://localhost:8080/"
        },
        "id": "DEDhub8MIYrA",
        "outputId": "defde105-54ba-41ea-bbc4-bfcc0c3ae27c"
      },
      "execution_count": null,
      "outputs": [
        {
          "output_type": "stream",
          "name": "stdout",
          "text": [
            "Data has been appended to 'example.txt' successfully.\n"
          ]
        }
      ]
    },
    {
      "cell_type": "markdown",
      "source": [
        "11. Write a python program that uses a try-except block to handle an error when attempting to process a dictionary key that doesn't exist."
      ],
      "metadata": {
        "id": "Zcub3bh6IaKp"
      }
    },
    {
      "cell_type": "code",
      "source": [
        "# Python program to handle missing dictionary key using try-except\n",
        "\n",
        "# Sample dictionary\n",
        "student_scores = {\n",
        "    \"Alice\": 85,\n",
        "    \"Bob\": 92,\n",
        "    \"Charlie\": 78\n",
        "}\n",
        "\n",
        "# Key to access\n",
        "key = \"David\"\n",
        "\n",
        "try:\n",
        "    # Attempt to access the value of the given key\n",
        "    print(f\"{key}'s score is {student_scores[key]}\")\n",
        "except KeyError:\n",
        "    # Handle the case where the key does not exist\n",
        "    print(f\"Error: '{key}' not found in the dictionary.\")\n"
      ],
      "metadata": {
        "colab": {
          "base_uri": "https://localhost:8080/"
        },
        "id": "e8Jm2xaGIvpH",
        "outputId": "9b1c0331-e38f-494d-e046-dcaaaec068f9"
      },
      "execution_count": null,
      "outputs": [
        {
          "output_type": "stream",
          "name": "stdout",
          "text": [
            "Error: 'David' not found in the dictionary.\n"
          ]
        }
      ]
    },
    {
      "cell_type": "markdown",
      "source": [
        "12. Write a program that demonstrates using multiple except blocks to handle different types of exceptions."
      ],
      "metadata": {
        "id": "HEodCi6HIyMF"
      }
    },
    {
      "cell_type": "code",
      "source": [
        "# Program to demonstrate multiple except blocks\n",
        "\n",
        "try:\n",
        "    num1 = int(input(\"Enter the numerator: \"))\n",
        "    num2 = int(input(\"Enter the denominator: \"))\n",
        "    result = num1 / num2\n",
        "    print(\"Result:\", result)\n",
        "\n",
        "    # Accessing dictionary key to demonstrate KeyError\n",
        "    sample_dict = {\"a\": 1, \"b\": 2}\n",
        "    print(\"Value for key 'c':\", sample_dict[\"c\"])\n",
        "\n",
        "except ZeroDivisionError:\n",
        "    print(\"Error: Division by zero is not allowed.\")\n",
        "except ValueError:\n",
        "    print(\"Error: Invalid input. Please enter numeric values.\")\n",
        "except KeyError:\n",
        "    print(\"Error: The specified key does not exist in the dictionary.\")\n",
        "except Exception as e:\n",
        "    # Generic exception handler for any other unforeseen errors\n",
        "    print(\"An unexpected error occurred:\", e)\n"
      ],
      "metadata": {
        "id": "nQnd35DMMxFx"
      },
      "execution_count": null,
      "outputs": []
    },
    {
      "cell_type": "markdown",
      "source": [
        "13. How would you check if a file exists before attempting to read it in python ?"
      ],
      "metadata": {
        "id": "W_JlxAssM3Af"
      }
    },
    {
      "cell_type": "code",
      "source": [
        "from pathlib import Path\n",
        "\n",
        "filename = Path(\"example.txt\")\n",
        "\n",
        "if filename.exists():\n",
        "    with open(filename, \"r\") as file:\n",
        "        contents = file.read()\n",
        "        print(\"File contents:\\n\", contents)\n",
        "else:\n",
        "    print(f\"The file '{filename}' does not exist.\")\n"
      ],
      "metadata": {
        "colab": {
          "base_uri": "https://localhost:8080/"
        },
        "id": "pQXWTgdaNJza",
        "outputId": "f095e0d7-017d-490e-c63e-50745a5e2d2d"
      },
      "execution_count": null,
      "outputs": [
        {
          "output_type": "stream",
          "name": "stdout",
          "text": [
            "File contents:\n",
            " Hello, this is another way to write to a file.\n",
            "This is the new line being appended.\n"
          ]
        }
      ]
    },
    {
      "cell_type": "markdown",
      "source": [
        "14. Write a program that uses the logging module to log both informational and error messages."
      ],
      "metadata": {
        "id": "NkwauO9nNLZL"
      }
    },
    {
      "cell_type": "code",
      "source": [
        "import logging\n",
        "\n",
        "# Configure logging\n",
        "logging.basicConfig(filename='app_log.txt',\n",
        "                    level=logging.DEBUG,  # captures all logs from DEBUG and above\n",
        "                    format='%(asctime)s - %(levelname)s - %(message)s')\n",
        "\n",
        "# Log an informational message\n",
        "logging.info(\"Program started successfully.\")\n",
        "\n",
        "try:\n",
        "    # Sample calculation to demonstrate error logging\n",
        "    num1 = 10\n",
        "    num2 = 0\n",
        "    result = num1 / num2\n",
        "    logging.info(f\"Division result: {result}\")\n",
        "except ZeroDivisionError as e:\n",
        "    logging.error(f\"Error occurred: Division by zero. Exception: {e}\")\n",
        "\n",
        "# Log another informational message\n",
        "logging.info(\"Program ended.\")\n"
      ],
      "metadata": {
        "colab": {
          "base_uri": "https://localhost:8080/"
        },
        "id": "vjyhbuqONeRR",
        "outputId": "02a896a8-0aad-4083-c87b-b9e0b75cbcd1"
      },
      "execution_count": null,
      "outputs": [
        {
          "output_type": "stream",
          "name": "stderr",
          "text": [
            "ERROR:root:Error occurred: Division by zero. Exception: division by zero\n"
          ]
        }
      ]
    },
    {
      "cell_type": "markdown",
      "source": [
        "15. Write a python program that prints the contents of a file and handles the case when file is empty."
      ],
      "metadata": {
        "id": "RVQqGppHNhOy"
      }
    },
    {
      "cell_type": "code",
      "source": [
        "# Python program to print file contents and handle empty file case\n",
        "\n",
        "filename = \"example.txt\"\n",
        "\n",
        "try:\n",
        "    with open(filename, \"r\") as file:\n",
        "        contents = file.read()\n",
        "        if contents:  # Check if file is not empty\n",
        "            print(\"File contents:\\n\", contents)\n",
        "        else:\n",
        "            print(f\"The file '{filename}' is empty.\")\n",
        "except FileNotFoundError:\n",
        "    print(f\"Error: The file '{filename}' does not exist.\")\n",
        "except IOError:\n",
        "    print(f\"Error: Could not read the file '{filename}'.\")\n"
      ],
      "metadata": {
        "id": "QSu6E27zNKSV"
      },
      "execution_count": null,
      "outputs": []
    },
    {
      "cell_type": "markdown",
      "source": [
        "16. Demonstrate how to use memory profiling to check the memory usage of a small program."
      ],
      "metadata": {
        "id": "0LWw40at7SiD"
      }
    },
    {
      "cell_type": "code",
      "source": [
        "pip install memory-profiler"
      ],
      "metadata": {
        "id": "O9JhSCIz8Dlr"
      },
      "execution_count": null,
      "outputs": []
    },
    {
      "cell_type": "code",
      "source": [
        "\n",
        "from memory_profiler import profile\n",
        "\n",
        "@profile\n",
        "def my_function():\n",
        "    a = [1] * (10**6)  # create a list of 1 million integers\n",
        "    b = [2] * (2 * 10**7)  # create a list of 20 million integers\n",
        "    del b\n",
        "    return a\n",
        "\n",
        "if __name__ == '__main__':\n",
        "    my_function()"
      ],
      "metadata": {
        "id": "aVapfj9N731d"
      },
      "execution_count": null,
      "outputs": []
    },
    {
      "cell_type": "markdown",
      "source": [
        "17. Write a python program to create and write a list of numbers to a file one number per line."
      ],
      "metadata": {
        "id": "dihD-WzV8LXB"
      }
    },
    {
      "cell_type": "code",
      "source": [
        "# Create a list of numbers\n",
        "numbers = [10, 20, 30, 40, 50]\n",
        "\n",
        "# Open the file in write mode\n",
        "with open('numbers.txt', 'w') as file:\n",
        "    # Iterate through each number in the list\n",
        "    for number in numbers:\n",
        "        # Write the number followed by a newline\n",
        "        file.write(str(number) + '\\n')\n",
        "\n",
        "print(\"Numbers have been written to numbers.txt successfully.\")\n"
      ],
      "metadata": {
        "colab": {
          "base_uri": "https://localhost:8080/"
        },
        "id": "rrWVRMXg8ZBi",
        "outputId": "3abbad6e-bdc8-452d-d7ce-f0778c276cbe"
      },
      "execution_count": 6,
      "outputs": [
        {
          "output_type": "stream",
          "name": "stdout",
          "text": [
            "Numbers have been written to numbers.txt successfully.\n"
          ]
        }
      ]
    },
    {
      "cell_type": "markdown",
      "source": [
        "18. How would you implement a basic logging setup that logs a file with rotation after 1MB ?"
      ],
      "metadata": {
        "id": "fOs8exAH8fCh"
      }
    },
    {
      "cell_type": "code",
      "source": [
        "import logging\n",
        "from logging.handlers import RotatingFileHandler\n",
        "\n",
        "# Create a logger\n",
        "logger = logging.getLogger('MyLogger')\n",
        "logger.setLevel(logging.DEBUG)  # You can set to INFO or WARNING as needed\n",
        "\n",
        "# Create a rotating file handler\n",
        "handler = RotatingFileHandler(\n",
        "    'app.log',       # log file name\n",
        "    maxBytes=1*1024*1024,  # 1 MB = 1*1024*1024 bytes\n",
        "    backupCount=5    # keeps last 5 rotated log files\n",
        ")\n",
        "\n",
        "# Create a logging format\n",
        "formatter = logging.Formatter('%(asctime)s - %(levelname)s - %(message)s')\n",
        "handler.setFormatter(formatter)\n",
        "\n",
        "# Add the handler to the logger\n",
        "logger.addHandler(handler)\n",
        "\n",
        "# Example logging usage\n",
        "if __name__ == \"__main__\":\n",
        "    for i in range(10000):\n",
        "        logger.debug(f'This is log entry number {i}')\n"
      ],
      "metadata": {
        "id": "xE4NjGVe87it"
      },
      "execution_count": null,
      "outputs": []
    },
    {
      "cell_type": "markdown",
      "source": [
        "19. Write a program that handles both IndexError and KeyError using a try-except block."
      ],
      "metadata": {
        "id": "SOg2hY6t8879"
      }
    },
    {
      "cell_type": "code",
      "source": [
        "# Define a list and a dictionary\n",
        "my_list = [10, 20, 30]\n",
        "my_dict = {'a': 1, 'b': 2}\n",
        "\n",
        "try:\n",
        "    # Attempt to access an out-of-range index\n",
        "    print(\"List item at index 5:\", my_list[5])\n",
        "\n",
        "    # Attempt to access a non-existent dictionary key\n",
        "    print(\"Value for key 'c':\", my_dict['c'])\n",
        "\n",
        "except IndexError:\n",
        "    print(\"IndexError occurred: List index is out of range.\")\n",
        "\n",
        "except KeyError:\n",
        "    print(\"KeyError occurred: Key not found in dictionary.\")\n",
        "\n",
        "print(\"Program continues after handling exceptions.\")\n"
      ],
      "metadata": {
        "id": "MgSgUeAk9cLq"
      },
      "execution_count": null,
      "outputs": []
    },
    {
      "cell_type": "markdown",
      "source": [
        "20. how would you open a file and read its contents using a context manager in python?"
      ],
      "metadata": {
        "id": "EuFjcVEH9dYd"
      }
    },
    {
      "cell_type": "code",
      "source": [
        "# Open the file using 'with' statement as a context manager\n",
        "with open('example.txt', 'r') as file:\n",
        "    contents = file.read()\n",
        "\n",
        "# Print the contents\n",
        "print(contents)\n"
      ],
      "metadata": {
        "id": "THwL7emO8dZ0"
      },
      "execution_count": null,
      "outputs": []
    },
    {
      "cell_type": "markdown",
      "source": [
        "21. Write a python program that reads a file and prints the numbers of occurances of a specific word."
      ],
      "metadata": {
        "id": "KToRk8sv9st7"
      }
    },
    {
      "cell_type": "code",
      "source": [
        "# Define the word to search for\n",
        "word_to_search = 'python'\n",
        "\n",
        "# Initialize counter\n",
        "count = 0\n",
        "\n",
        "# Open the file and read its contents\n",
        "with open('example.txt', 'r') as file:\n",
        "    for line in file:\n",
        "        # Convert line to lowercase for case-insensitive matching\n",
        "        words = line.lower().split()\n",
        "        # Count occurrences in this line\n",
        "        count += words.count(word_to_search.lower())\n",
        "\n",
        "# Print the result\n",
        "print(f\"The word '{word_to_search}' occurred {count} times in the file.\")\n"
      ],
      "metadata": {
        "id": "ORz9X2Qk-DRC"
      },
      "execution_count": null,
      "outputs": []
    },
    {
      "cell_type": "markdown",
      "source": [
        "22. How can you check if a file is empty before attempting to read its content ?"
      ],
      "metadata": {
        "id": "whvHtbeY-EeP"
      }
    },
    {
      "cell_type": "code",
      "source": [
        "import os\n",
        "\n",
        "# Specify the file path\n",
        "file_path = 'example.txt'\n",
        "\n",
        "# Check if the file is empty\n",
        "if os.stat(file_path).st_size == 0:\n",
        "    print(\"The file is empty.\")\n",
        "else:\n",
        "    with open(file_path, 'r') as file:\n",
        "        contents = file.read()\n",
        "        print(contents)\n"
      ],
      "metadata": {
        "id": "I5G3Yf3O-qCR"
      },
      "execution_count": null,
      "outputs": []
    },
    {
      "cell_type": "markdown",
      "source": [
        "23. Write a python program that writes to a log file when an error occurs during file handling."
      ],
      "metadata": {
        "id": "iy6p5cf--qyn"
      }
    },
    {
      "cell_type": "code",
      "source": [
        "import logging\n",
        "\n",
        "# Setup basic logging configuration\n",
        "logging.basicConfig(\n",
        "    filename='file_errors.log',   # log file name\n",
        "    level=logging.ERROR,          # log only errors and above\n",
        "    format='%(asctime)s - %(levelname)s - %(message)s'\n",
        ")\n",
        "\n",
        "try:\n",
        "    # Attempt to open and read a non-existent file\n",
        "    with open('non_existent_file.txt', 'r') as file:\n",
        "        contents = file.read()\n",
        "        print(contents)\n",
        "\n",
        "except FileNotFoundError as e:\n",
        "    print(\"File not found. Logging the error.\")\n",
        "    logging.error(\"FileNotFoundError occurred: %s\", e)\n",
        "\n",
        "except Exception as e:\n",
        "    print(\"An unexpected error occurred. Logging the error.\")\n",
        "    logging.error(\"Unexpected error: %s\", e)\n"
      ],
      "metadata": {
        "id": "WG24_hXw-43f"
      },
      "execution_count": null,
      "outputs": []
    }
  ]
}